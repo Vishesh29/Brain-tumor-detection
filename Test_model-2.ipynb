{
 "cells": [
  {
   "cell_type": "code",
   "execution_count": 1,
   "metadata": {},
   "outputs": [],
   "source": [
    "import numpy as np\n",
    "import cv2\n",
    "import joblib\n",
    "import os"
   ]
  },
  {
   "cell_type": "code",
   "execution_count": 2,
   "metadata": {},
   "outputs": [],
   "source": [
    "model=joblib.load('brain_tumor_kmeans_model.sav')\n",
    "tumorLabel=4"
   ]
  },
  {
   "cell_type": "code",
   "execution_count": 4,
   "metadata": {},
   "outputs": [
    {
     "name": "stdout",
     "output_type": "stream",
     "text": [
      "no. contours: 1892\n",
      "no. contours: 3407\n",
      "no. contours: 3065\n",
      "no. contours: 3165\n",
      "no. contours: 3441\n",
      "no. contours: 2719\n",
      "no. contours: 2560\n",
      "no. contours: 3068\n",
      "no. contours: 3139\n",
      "no. contours: 2035\n",
      "no. contours: 2153\n",
      "no. contours: 1203\n",
      "no. contours: 1789\n"
     ]
    }
   ],
   "source": [
    "test_img_path='test_images'\n",
    "test_img_names=os.listdir(test_img_path)\n",
    "\n",
    "for test_img_name in test_img_names:\n",
    "    img_path=os.path.join(test_img_path,test_img_name)\n",
    "    img=cv2.imread(img_path,0)\n",
    "    img_original=cv2.imread(img_path)\n",
    "    height,width=img.shape\n",
    "    imgFlatten=img.reshape(height*width,1)\n",
    "    labels=model.predict(imgFlatten)\n",
    "    labels2D=labels.reshape(height,width)\n",
    "    mask=(labels2D==tumorLabel)             #gives true when tumor detected\n",
    "    tumorExtracted=np.bitwise_and(mask,img)\n",
    "    contours, hierarchy = cv2.findContours(tumorExtracted, cv2.RETR_TREE,cv2.CHAIN_APPROX_SIMPLE)\n",
    "    print('no. contours:',len(contours))\n",
    "    #cv2.drawContours(img_original,contours, -1, (0,0,255), 2)     # -1 means all contours\n",
    "    for cnt in contours:\n",
    "        area=cv2.contourArea(cnt)\n",
    "        if(area>500):\n",
    "            \n",
    "            cv2.drawContours(img_original,[cnt],-1,(0,0,255),2)\n",
    "            x,y,w,h = cv2.boundingRect(cnt)\n",
    "            cv2.rectangle(img_original,(x,y),(x+w,y+h),(0,255,0),2)\n",
    "            cv2.rectangle(img_original,(x,y),(x+120,y-40),(0,255,0),-1)         #thicknessof rect =-1\n",
    "            cv2.putText(img_original,\"TUMOR\",(x+10,y-10),cv2.FONT_HERSHEY_SIMPLEX,1,(255,255,255),2)\n",
    "\n",
    "    cv2.imshow('Window',img_original)\n",
    "    cv2.waitKey(1000)\n",
    "cv2.destroyAllWindows()"
   ]
  },
  {
   "cell_type": "code",
   "execution_count": null,
   "metadata": {},
   "outputs": [],
   "source": []
  },
  {
   "cell_type": "code",
   "execution_count": null,
   "metadata": {},
   "outputs": [],
   "source": []
  },
  {
   "cell_type": "code",
   "execution_count": null,
   "metadata": {},
   "outputs": [],
   "source": []
  },
  {
   "cell_type": "code",
   "execution_count": null,
   "metadata": {},
   "outputs": [],
   "source": []
  }
 ],
 "metadata": {
  "kernelspec": {
   "display_name": "Python 3",
   "language": "python",
   "name": "python3"
  },
  "language_info": {
   "codemirror_mode": {
    "name": "ipython",
    "version": 3
   },
   "file_extension": ".py",
   "mimetype": "text/x-python",
   "name": "python",
   "nbconvert_exporter": "python",
   "pygments_lexer": "ipython3",
   "version": "3.8.3"
  }
 },
 "nbformat": 4,
 "nbformat_minor": 4
}
